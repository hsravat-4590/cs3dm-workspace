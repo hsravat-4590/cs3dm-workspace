{
 "cells": [
  {
   "cell_type": "markdown",
   "metadata": {},
   "source": [
    "# CS3440 - Lab 8\n",
    "\n",
    "## Objectives\n",
    "- Use your recently acquired knowledge of practical Data Mining for a small project.\n",
    "\n",
    "## Suggested Reading\n",
    "Past lab tasks (incl. model solutions, if needed) \n",
    "\n",
    "*****\n",
    "\n",
    "## Brief description\n",
    "In this lab you'll fit a **classification** model to predict whether an individual will develop diabetes, based on some characteristics of that person. For that, you'll use a subset of a famous dataset known as the Pima Indian Diabetes Dataset (PIDD). This subset of data (file *diabetes.csv* available on BB) consists of a number of observations related to women of Pima Indian heritage, aged 21 and above. Your task is to build a model capable of predicting the onset of diabetes (variable `Outcome`) based on the other variables in the data set.\n",
    "\n",
    "The diabetes dataset contains the following columns:\n",
    "\n",
    "1. Number of times pregnant\n",
    "2. Plasma glucose concentration a 2 hours in an oral glucose tolerance test\n",
    "3. Diastolic blood pressure (mm Hg)\n",
    "4. Triceps skin fold thickness (mm)\n",
    "5. 2-Hour serum insulin (mu U/ml)\n",
    "6. Body mass index [(weight in kg)/(height in m)<sup>2</sup>]\n",
    "7. Diabetes pedigree function\n",
    "8. Age (in years)\n",
    "9. Outcome (Class variable - 0 or 1)\n",
    "\n",
    "\n",
    "**TO DO**\n",
    "- Load the diabetes dataset\n",
    "- Explore the dataset using summary statistics: how many rows, how many columns, scale (range of values) in each column, presence or not of missing values, class balance (number of observations from each class)\n",
    "- Use function `pairplot()` from library Seaborn to generate a correlation plot. Set option `hue = 'Outcome'` to colour the plot by the outcome variable. Check this plot to make sure there isn't anything unusual in the data.\n",
    "    - Note: Some variables may not have missing data, but values that are impossible. Check the plot for that! For instance, is it possible for a person to have a body mass index (BMI) of zero? Or a blood pressure of zero? Use your common sense and apply listwise deletion (removal of rows) where these impossible values happen.\n",
    "- Split the data into a training (75%) and a test split (25%), _keeping the class balance within each split_. The easiest way to do that is using function `train_test_split()`, imported from *sklearn.model_selection*, and using option `stratify = your_target_variable` (replace `your_target_variable` by the name of your target variable).\n",
    "- Fit a **Random Forest** classifier (remember, you did this in Lab 5).\n",
    "- Use your test split to assess the performance of your classifier. Use the *f1_score* (imported from _sklearn.metrics_) to evaluate model quality."
   ]
  },
  {
   "cell_type": "code",
   "execution_count": null,
   "metadata": {},
   "outputs": [],
   "source": []
  }
 ],
 "metadata": {
  "kernelspec": {
   "display_name": "Python 3 (ipykernel)",
   "language": "python",
   "name": "python3"
  },
  "language_info": {
   "codemirror_mode": {
    "name": "ipython",
    "version": 3
   },
   "file_extension": ".py",
   "mimetype": "text/x-python",
   "name": "python",
   "nbconvert_exporter": "python",
   "pygments_lexer": "ipython3",
   "version": "3.9.12"
  }
 },
 "nbformat": 4,
 "nbformat_minor": 4
}
