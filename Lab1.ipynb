{
 "cells": [
  {
   "cell_type": "code",
   "execution_count": 8,
   "outputs": [
    {
     "name": "stdout",
     "output_type": "stream",
     "text": [
      "Hello World\n",
      "Hi there!\n",
      "my string\n",
      "102\n"
     ]
    }
   ],
   "source": [
    "print(\"Hello World\") # Double quotes work\n",
    "print('Hi there!') # Single quotes work too\n",
    "a = \"my string\" # variable assignment\n",
    "print(a)\n",
    "name = \"Felipe CAMPELO\"\n",
    "name.lower() # lowercase\n",
    "name.upper() # uppercase\n",
    "first_name = \"felipe\"\n",
    "last_name = \"campelo\"\n",
    "name = first_name + \" \" + last_name\n",
    "name.title() # title capitalisation\n",
    "3 * first_name # We can replicate a string like this\n",
    "# To combine numbers and strings, you need to explicitly cast\n",
    "# the number to a string object.\n",
    "age = 43\n",
    "\"Happy \" + str(age) + \"th birthday!\"\n",
    "\n",
    "num1 = 2\n",
    "while num1 < 100:\n",
    "    num1 = num1 + 5\n",
    "\n",
    "print(num1)\n"
   ],
   "metadata": {
    "collapsed": false
   }
  }
 ],
 "metadata": {
  "kernelspec": {
   "display_name": "Python 3",
   "language": "python",
   "name": "python3"
  },
  "language_info": {
   "codemirror_mode": {
    "name": "ipython",
    "version": 2
   },
   "file_extension": ".py",
   "mimetype": "text/x-python",
   "name": "python",
   "nbconvert_exporter": "python",
   "pygments_lexer": "ipython2",
   "version": "2.7.6"
  }
 },
 "nbformat": 4,
 "nbformat_minor": 0
}
